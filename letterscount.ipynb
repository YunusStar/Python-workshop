{
 "metadata": {
  "language_info": {
   "codemirror_mode": {
    "name": "ipython",
    "version": 3
   },
   "file_extension": ".py",
   "mimetype": "text/x-python",
   "name": "python",
   "nbconvert_exporter": "python",
   "pygments_lexer": "ipython3",
   "version": "3.8.5-final"
  },
  "orig_nbformat": 2,
  "kernelspec": {
   "name": "python3",
   "display_name": "Python 3",
   "language": "python"
  }
 },
 "nbformat": 4,
 "nbformat_minor": 2,
 "cells": [
  {
   "cell_type": "code",
   "execution_count": null,
   "metadata": {},
   "outputs": [],
   "source": [
    "# Task:\n",
    "\n",
    "# Count the number of each letter in a sentence.\n",
    "# The department you work for undertook a project construction that makes word / text analysis. You are asked to calculate the number of letters or any chars in the sentences entered under this project.\n",
    "# Write a Python program that;\n",
    "# takes a sentence from the user,\n",
    "# counts the number of each letter of the sentence,\n",
    "# collects the letters/chars as a key and the counted numbers as a value in a dictionary."
   ]
  },
  {
   "cell_type": "code",
   "execution_count": 10,
   "metadata": {},
   "outputs": [
    {
     "output_type": "stream",
     "name": "stdout",
     "text": [
      "{'b': 1, 'u': 3, 'g': 2, 'n': 3, ' ': 2, 'l': 2, 'e': 2, 'r': 1, 'd': 1, 's': 1, 'a': 1, 'i': 1}\n{'b': 1, 'u': 3, 'g': 2, 'n': 3, ' ': 2, 'l': 2, 'e': 2, 'r': 1, 'd': 1, 's': 1, 'a': 1, 'i': 1}\n"
     ]
    }
   ],
   "source": [
    "sentence = input(\"Pls Enter a sentence: \")\n",
    "\n",
    "#first solution\n",
    "letters_count_dict ={} #empty dict\n",
    "for i in sentence: #since given sentence is string and iterable, we can iterate letters one by one and count\n",
    "    letters_count_dict[i] = sentence.count(i) #here we assing keys of our dict to counted letters of string sentence\n",
    "print(letters_count_dict)\n",
    "#second solution\n",
    "letters_count_dict = {i: sentence.count(i) for i in sentence} # we can write into a dict as comprehesion key-value pairs, sentence is string and iterable\n",
    "print(letters_count_dict)"
   ]
  }
 ]
}