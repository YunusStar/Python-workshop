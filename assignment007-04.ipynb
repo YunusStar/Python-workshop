{
 "metadata": {
  "language_info": {
   "codemirror_mode": {
    "name": "ipython",
    "version": 3
   },
   "file_extension": ".py",
   "mimetype": "text/x-python",
   "name": "python",
   "nbconvert_exporter": "python",
   "pygments_lexer": "ipython3",
   "version": "3.8.5-final"
  },
  "orig_nbformat": 2,
  "kernelspec": {
   "name": "python3",
   "display_name": "Python 3",
   "language": "python"
  }
 },
 "nbformat": 4,
 "nbformat_minor": 2,
 "cells": [
  {
   "cell_type": "code",
   "execution_count": 55,
   "metadata": {
    "tags": []
   },
   "outputs": [
    {
     "output_type": "stream",
     "name": "stdout",
     "text": [
      "17 is a prime number\n"
     ]
    }
   ],
   "source": [
    "number = int(input(\"write a number to check whether a prime number or not: \"))\n",
    "primelist =[]\n",
    "\n",
    "for i in range(1,number):\n",
    "      if  number % i ==0:\n",
    "          num = number / i\n",
    "          primelist.append(int(num))\n",
    "\n",
    "primelist= set(primelist)\n",
    "if len(primelist) < 2 and len(primelist) > 0:\n",
    "    print(f\"{number} is a prime number\")\n",
    "else:\n",
    "    print(f\"{number} is not a prime number\")"
   ]
  },
  {
   "cell_type": "code",
   "execution_count": null,
   "metadata": {},
   "outputs": [],
   "source": []
  }
 ]
}