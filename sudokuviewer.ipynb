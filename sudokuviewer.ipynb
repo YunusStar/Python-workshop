{
 "metadata": {
  "language_info": {
   "codemirror_mode": {
    "name": "ipython",
    "version": 3
   },
   "file_extension": ".py",
   "mimetype": "text/x-python",
   "name": "python",
   "nbconvert_exporter": "python",
   "pygments_lexer": "ipython3",
   "version": "3.8.5-final"
  },
  "orig_nbformat": 2,
  "kernelspec": {
   "name": "python3",
   "display_name": "Python 3",
   "language": "python"
  }
 },
 "nbformat": 4,
 "nbformat_minor": 2,
 "cells": [
  {
   "cell_type": "code",
   "execution_count": 2,
   "metadata": {},
   "outputs": [],
   "source": [
    "sudoku = [\n",
    "    [0, 0, 0, 0, 6, 4, 0, 0, 0],\n",
    "    [7, 0, 0, 0, 0, 0, 3, 9, 0],\n",
    "    [8, 0, 0, 0, 0, 0, 0, 0, 0],\n",
    "    [0, 0, 0, 5, 0, 2, 0, 6, 0],\n",
    "    [0, 8, 0, 4, 0, 0, 0, 0, 0],\n",
    "    [3, 5, 0, 6, 0, 0, 0, 7, 0],\n",
    "    [0, 0, 2, 0, 0, 0, 1, 0, 3],\n",
    "    [0, 0, 1, 0, 5, 9, 0, 0, 0],\n",
    "    [0, 0, 0, 0, 0, 0, 7, 0, 0]\n",
    "]\n",
    "# Desired output format :\n",
    "# - - - - - - - - - - - - - - - \n",
    "# 0  0  0  | 0  6  4  | 0  0  0  \n",
    "# 7  0  0  | 0  0  0  | 3  9  0  \n",
    "# 8  0  0  | 0  0  0  | 0  0  0  \n",
    "# - - - - - - - - - - - - - - - \n",
    "# 0  0  0  | 5  0  2  | 0  6  0  \n",
    "# 0  8  0  | 4  0  0  | 0  0  0  \n",
    "# 3  5  0  | 6  0  0  | 0  7  0  \n",
    "# - - - - - - - - - - - - - - - \n",
    "# 0  0  2  | 0  0  0  | 1  0  3  \n",
    "# 0  0  1  | 0  5  9  | 0  0  0  \n",
    "# 0  0  0  | 0  0  0  | 7  0  0  \n",
    "# - - - - - - - - - - - - - - -"
   ]
  },
  {
   "cell_type": "code",
   "execution_count": 170,
   "metadata": {
    "tags": []
   },
   "outputs": [
    {
     "output_type": "stream",
     "name": "stdout",
     "text": [
      "- - - - - - - - - - -\n0 0 0 | 0 6 4 | 0 0 0\n7 0 0 | 0 0 0 | 3 9 0\n8 0 0 | 0 0 0 | 0 0 0\n- - - - - - - - - - -\n0 0 0 | 5 0 2 | 0 6 0\n0 8 0 | 4 0 0 | 0 0 0\n3 5 0 | 6 0 0 | 0 7 0\n- - - - - - - - - - -\n0 0 2 | 0 0 0 | 1 0 3\n0 0 1 | 0 5 9 | 0 0 0\n0 0 0 | 0 0 0 | 7 0 0\n- - - - - - - - - - -\n"
     ]
    }
   ],
   "source": [
    "count = 0\n",
    "print(*\"-\"*11)\n",
    "for i in range(9):\n",
    "    print(*sudoku[i][0:3], end=\" | \")\n",
    "    print(*sudoku[i][3:6], end=\" | \")\n",
    "    print(*sudoku[i][6:9])\n",
    "    count += 1\n",
    "    if count % 3 == 0:\n",
    "        print(*\"-\"*11)"
   ]
  }
 ]
}