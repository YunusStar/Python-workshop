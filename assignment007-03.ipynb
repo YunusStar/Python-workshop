{
 "metadata": {
  "language_info": {
   "codemirror_mode": {
    "name": "ipython",
    "version": 3
   },
   "file_extension": ".py",
   "mimetype": "text/x-python",
   "name": "python",
   "nbconvert_exporter": "python",
   "pygments_lexer": "ipython3",
   "version": 3
  },
  "orig_nbformat": 2
 },
 "nbformat": 4,
 "nbformat_minor": 2,
 "cells": [
  {
   "cell_type": "code",
   "execution_count": null,
   "metadata": {},
   "outputs": [],
   "source": [
    "number = input(\"Write a number to check if its Armstrong or not: \")\n",
    "\n",
    "if not number.isnumeric():\n",
    "    print(\" It is an invalid entry. Don't use non-numeric, float, or negative values!\")\n",
    "else:\n",
    "    digit = len(str(number))\n",
    "    numlist = [int(number) for number in str(number)] # this is a list contains all digits of number\n",
    "    temp = 0\n",
    "    total = 0 \n",
    "    for i in numlist:\n",
    "        temp = i ** digit\n",
    "        total += temp\n",
    "    if total == int(number):\n",
    "        print(f\"{number} is a Armstrong number\")\n",
    "    else:\n",
    "        print(f\"{number} is not a Armstrong number\")"
   ]
  }
 ]
}