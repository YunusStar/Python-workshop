{
 "metadata": {
  "language_info": {
   "codemirror_mode": {
    "name": "ipython",
    "version": 3
   },
   "file_extension": ".py",
   "mimetype": "text/x-python",
   "name": "python",
   "nbconvert_exporter": "python",
   "pygments_lexer": "ipython3",
   "version": "3.8.5-final"
  },
  "orig_nbformat": 2,
  "kernelspec": {
   "name": "python3",
   "display_name": "Python 3",
   "language": "python"
  }
 },
 "nbformat": 4,
 "nbformat_minor": 2,
 "cells": [
  {
   "cell_type": "code",
   "execution_count": 1,
   "metadata": {},
   "outputs": [
    {
     "output_type": "stream",
     "name": "stdout",
     "text": [
      "[2, 3, 5, 7, 11, 13, 17, 19, 23, 29, 31, 37, 41, 43]\n"
     ]
    }
   ],
   "source": [
    "number = int(input(\"Enter a positive number: \"))\n",
    "prime = []\n",
    "\n",
    "for num in range(2, number):\n",
    "    for i in range (2, num):\n",
    "        if num % i == 0: \n",
    "            break\n",
    "    else:\n",
    "        prime.append(num)\n",
    "print(prime)\n"
   ]
  }
 ]
}